{
 "cells": [
  {
   "cell_type": "markdown",
   "metadata": {},
   "source": [
    "读取data.jsonl文件并提取对应数据保存到code.jsonl"
   ]
  },
  {
   "cell_type": "code",
   "execution_count": 1,
   "metadata": {},
   "outputs": [],
   "source": [
    "import os\n",
    "import json\n",
    "from pathlib import Path\n",
    "\n",
    "# set the model_id\n",
    "model_id = 'starcoder2-3b_cangjie_it_2200_lr1e-05_ebs32'\n",
    "folder_path = 'starcoder2-3b_cangjie_it_2200_lr1e-05_ebs32'\n",
    "\n",
    "current_dir = os.getcwd()\n",
    "proj_dir = Path(current_dir).parent\n",
    "input_file_path = os.path.join(current_dir, f'{model_id}.jsonl') # translation result jsonl file\n",
    "output_file_path = os.path.join(current_dir, 'codefile.jsonl')\n",
    "target_folder_path = os.path.join(current_dir, folder_path)\n",
    "\n",
    "# Remove the output file if it exists\n",
    "if os.path.exists(output_file_path):\n",
    "    os.remove(output_file_path)\n",
    "\n",
    "# Read from the input file and write to the output file\n",
    "with open(input_file_path, 'r') as f_in:\n",
    "    with open(output_file_path, 'w') as f_out:\n",
    "        for line in f_in:\n",
    "            data = json.loads(line)\n",
    "            pred = data.get('pred')\n",
    "            if pred:\n",
    "                f_out.write(json.dumps(pred) + '\\n')\n"
   ]
  },
  {
   "cell_type": "markdown",
   "metadata": {},
   "source": [
    "复制测试代码"
   ]
  },
  {
   "cell_type": "code",
   "execution_count": 2,
   "metadata": {},
   "outputs": [],
   "source": [
    "import shutil\n",
    "\n",
    "def copy_folders(source_path, target_path):\n",
    "    # 遍历 0 到 163\n",
    "    for i in range(164):\n",
    "        folder_name = str(i)\n",
    "        source_folder_path = os.path.join(source_path, folder_name)\n",
    "        target_folder_path = os.path.join(target_path, folder_name)\n",
    "\n",
    "        # 如果源文件夹存在，则复制到目标路径下\n",
    "        if os.path.exists(source_folder_path):\n",
    "            try:\n",
    "                shutil.copytree(source_folder_path, target_folder_path)\n",
    "            except Exception as e:\n",
    "                print(f\"复制文件夹 {folder_name} 到 {target_path} 失败: {e}\")\n",
    "        else:\n",
    "            print(f\"源文件夹 {folder_name} 不存在\")\n",
    "\n",
    "# 指定源路径和目标路径\n",
    "source_path = os.path.join(proj_dir, 'humaneval-x/test')\n",
    "target_path = os.path.join(proj_dir, 'bash-test')\n",
    "\n",
    "\n",
    "# 调用函数进行复制\n",
    "copy_folders(source_path, target_path)"
   ]
  },
  {
   "cell_type": "markdown",
   "metadata": {},
   "source": [
    "将codefile.json的内容覆盖到对应行号文件夹下文件前部"
   ]
  },
  {
   "cell_type": "code",
   "execution_count": 3,
   "metadata": {},
   "outputs": [],
   "source": [
    "import os\n",
    "\n",
    "with open('codefile.jsonl', 'r') as file:\n",
    "    lines = [line.strip()[1:-1] for line in file.readlines()]\n",
    "\n",
    "for line_number, line_content in enumerate(lines):\n",
    "    folder_name = str(line_number)  # 文件夹名称\n",
    "    file_name = \"generated_code.cj\"  # 文件名称\n",
    "    decoded_string = line_content.encode().decode('unicode_escape')  # 解码字符串\n",
    "\n",
    "    # 检查文件夹是否存在，不存在则创建\n",
    "    os.makedirs(folder_name, exist_ok=True)\n",
    "\n",
    "    # 打开文件，将行内容写入文件最前方\n",
    "    file_path = os.path.join(folder_name, file_name)\n",
    "    with open(file_path, 'r+') as f:\n",
    "        content = f.read()\n",
    "        f.seek(0, 0)\n",
    "        f.write(decoded_string.rstrip('\\r\\n') + '\\n' + content)\n"
   ]
  },
  {
   "cell_type": "markdown",
   "metadata": {},
   "source": [
    "在代码最前方写入头文件"
   ]
  },
  {
   "cell_type": "code",
   "execution_count": 4,
   "metadata": {},
   "outputs": [],
   "source": [
    "for i in range(164):\n",
    "    folder_name = str(i)  # 文件夹名称\n",
    "    file_name = \"generated_code.cj\"  # 文件名称\n",
    "    # 打开文件，将行内容写入文件最前方\n",
    "    file_path = os.path.join(folder_name, file_name)\n",
    "    with open(file_path, 'r+') as f:\n",
    "        content = f.read()\n",
    "        f.seek(0, 0)\n",
    "        f.write(\"\"\"from std import random.*\n",
    "from std import collection.*\n",
    "from std import math.*\n",
    "from std import sort.SortExtension\n",
    "\"\"\"  + content)"
   ]
  },
  {
   "cell_type": "markdown",
   "metadata": {},
   "source": [
    "读取codefile.json每一行的内容，生成cj文件，若成功编译，将输出保存到 {序号}/output.json中。否则保存在{序号}/error.json中\n",
    "其中{序号}即代码在codefile.json中的行号"
   ]
  },
  {
   "cell_type": "code",
   "execution_count": 5,
   "metadata": {},
   "outputs": [],
   "source": [
    "import subprocess\n",
    "\n",
    "for i in range(164):\n",
    "    folder_name = str(i)\n",
    "    command = [\"./compile.sh\", \"generated_code.cj\", \"correct\", folder_name]\n",
    "    \n",
    "    try:\n",
    "        # 使用subprocess.run()运行Shell命令，并设置超时时间为15秒\n",
    "        subprocess.run(command, timeout=15)\n",
    "    except subprocess.TimeoutExpired:\n",
    "        # 如果超时，输出当前的i，并跳过这次执行\n",
    "        print(f\"Timeout occurred for folder {folder_name}\")\n",
    "        continue"
   ]
  },
  {
   "cell_type": "markdown",
   "metadata": {},
   "source": [
    "遍历文件夹，若存在error.json,说明编译失败，反之则确认output.json文件是否存在,内容是否包含false"
   ]
  },
  {
   "cell_type": "code",
   "execution_count": 6,
   "metadata": {},
   "outputs": [
    {
     "name": "stdout",
     "output_type": "stream",
     "text": [
      "[0, 1, 3, 5, 6, 7, 8, 9, 12, 13, 15, 16, 18, 21, 23, 24, 26, 29, 31, 32, 38, 40, 41, 43, 48, 49, 52, 53, 55, 56, 59, 60, 61, 62, 63, 68, 73, 76, 78, 80, 81, 82, 85, 97, 100, 102, 106, 110, 121, 127, 135, 138, 139, 150, 152, 157, 159, 163]\n",
      "Number of successful line numbers: 58\n"
     ]
    }
   ],
   "source": [
    "successful_line_numbers = []\n",
    "\n",
    "for line_number in range(164):\n",
    "    folder_name = str(line_number)\n",
    "    error_file_path = os.path.join(folder_name, \"error.json\")\n",
    "    output_file_path = os.path.join(folder_name, \"output.json\")\n",
    "    \n",
    "    if os.path.exists(output_file_path):\n",
    "        with open(output_file_path, 'r') as output_file:\n",
    "            output_content = output_file.read()\n",
    "            if 'false' in output_content:\n",
    "                continue\n",
    "            else:\n",
    "                successful_line_numbers.append(line_number)\n",
    "    else:\n",
    "        continue\n",
    "print(successful_line_numbers)\n",
    "print(\"Number of successful line numbers:\", len(successful_line_numbers))"
   ]
  },
  {
   "cell_type": "markdown",
   "metadata": {},
   "source": [
    "生成完毕后，将同目录下名为0-163的文件夹剪切到对应模型ID文件夹下"
   ]
  },
  {
   "cell_type": "code",
   "execution_count": 7,
   "metadata": {},
   "outputs": [],
   "source": [
    "#import shutil\n",
    "\n",
    "#删除文件夹及其包含的所有内容\n",
    "try:\n",
    "    shutil.rmtree(folder_path)\n",
    "except OSError as e:\n",
    "    print(f\"删除文件夹 {folder_path} 失败: {e}\")\n",
    "\n",
    "os.mkdir(target_folder_path)\n",
    "for i in range(164):  # 总共164个文件夹\n",
    "    folder_to_move = str(i)\n",
    "    folder_to_move_path = os.path.join(current_dir, folder_to_move)\n",
    "    # 如果文件夹存在，则剪切到目标文件夹中\n",
    "    if os.path.isdir(folder_to_move_path):\n",
    "        try:\n",
    "            shutil.move(folder_to_move_path, target_folder_path)\n",
    "        except Exception as e:\n",
    "            print(f\"剪切文件夹 {folder_to_move} 到 {target_folder_path} 失败: {e}\")\n"
   ]
  }
 ],
 "metadata": {
  "kernelspec": {
   "display_name": "base",
   "language": "python",
   "name": "python3"
  },
  "language_info": {
   "codemirror_mode": {
    "name": "ipython",
    "version": 3
   },
   "file_extension": ".py",
   "mimetype": "text/x-python",
   "name": "python",
   "nbconvert_exporter": "python",
   "pygments_lexer": "ipython3",
   "version": "3.10.14"
  }
 },
 "nbformat": 4,
 "nbformat_minor": 2
}
